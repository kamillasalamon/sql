{
    "metadata": {
        "kernelspec": {
            "name": "SQL",
            "display_name": "SQL",
            "language": "sql"
        },
        "language_info": {
            "name": "sql",
            "version": ""
        }
    },
    "nbformat_minor": 2,
    "nbformat": 4,
    "cells": [
        {
            "cell_type": "markdown",
            "source": [
                "## **Oktatónkénti tanulószám**"
            ],
            "metadata": {
                "azdata_cell_guid": "d188feb3-2d61-4f6d-931c-1f6dc4522ad7"
            },
            "attachments": {}
        },
        {
            "cell_type": "code",
            "source": [
                "SELECT o.nev AS Oktató, COUNT(DISTINCT tf.tanulo_fk) AS Tanulók_száma\r\n",
                "FROM oktatok o\r\n",
                "JOIN tanfolyam tf ON o.oktato_id = tf.oktato_fk\r\n",
                "GROUP BY o.nev\r\n",
                "ORDER BY Tanulók_száma DESC;"
            ],
            "metadata": {
                "azdata_cell_guid": "b039f78f-86fc-4f7c-80cf-f8914e33a40e",
                "language": "sql"
            },
            "outputs": [],
            "execution_count": null
        },
        {
            "cell_type": "markdown",
            "source": [
                "## **Hány járműve van az egyes oktatóknak és milyen típusból**"
            ],
            "metadata": {
                "azdata_cell_guid": "6a14cc31-0334-4faa-bc1e-a36c0765ef41"
            },
            "attachments": {}
        },
        {
            "cell_type": "code",
            "source": [
                "SELECT o.nev AS Oktató, j.tipus, COUNT(*) AS Darab\r\n",
                "FROM oktatok o\r\n",
                "JOIN jarmu j ON o.oktato_id = j.oktato_fk\r\n",
                "GROUP BY o.nev, j.tipus\r\n",
                "ORDER BY o.nev, Darab DESC;"
            ],
            "metadata": {
                "azdata_cell_guid": "3e128c7d-103e-43d8-b081-c77a542882e2",
                "language": "sql"
            },
            "outputs": [],
            "execution_count": null
        },
        {
            "cell_type": "markdown",
            "source": [
                "## **Sikeres és sikertelen vizsgák száma vizsgatípusonként**"
            ],
            "metadata": {
                "azdata_cell_guid": "090b31ee-cb4d-4db0-ad02-68d9b76ed332"
            },
            "attachments": {}
        },
        {
            "cell_type": "code",
            "source": [
                "SELECT tipus, \r\n",
                "       SUM(CASE WHEN teljesitette = 1 THEN 1 ELSE 0 END) AS Sikeres, \r\n",
                "       SUM(CASE WHEN teljesitette = 0 THEN 1 ELSE 0 END) AS Sikertelen\r\n",
                "FROM vizsga\r\n",
                "GROUP BY tipus;"
            ],
            "metadata": {
                "azdata_cell_guid": "252b9b08-e490-48f3-a54a-e02794405e0e",
                "language": "sql"
            },
            "outputs": [],
            "execution_count": null
        },
        {
            "cell_type": "markdown",
            "source": [
                "## **Tanulók, akik legalább két különböző típusú képzésen vettek részt**"
            ],
            "metadata": {
                "azdata_cell_guid": "61318ada-3ac6-4931-b808-924828f63d7f"
            },
            "attachments": {}
        },
        {
            "cell_type": "code",
            "source": [
                "SELECT t.nev\r\n",
                "FROM tanulo t\r\n",
                "JOIN tanfolyam tf ON t.tanulo_id = tf.tanulo_fk\r\n",
                "GROUP BY t.nev\r\n",
                "HAVING COUNT(DISTINCT tf.tipus) >= 2;"
            ],
            "metadata": {
                "azdata_cell_guid": "7979fed3-193a-4ce4-9eb8-abd66806a0cc",
                "language": "sql"
            },
            "outputs": [],
            "execution_count": null
        },
        {
            "cell_type": "markdown",
            "source": [
                "## **Az a vizsgatípus, amelyből a legtöbb sikertelen próbálkozás volt**"
            ],
            "metadata": {
                "azdata_cell_guid": "6dec886d-cbf0-4c7d-9d60-ea20db2d4f6a"
            },
            "attachments": {}
        },
        {
            "cell_type": "code",
            "source": [
                "SELECT TOP 1 tipus, COUNT(*) AS Sikertelenek_száma\r\n",
                "FROM vizsga\r\n",
                "WHERE teljesitette = 0\r\n",
                "GROUP BY tipus\r\n",
                "ORDER BY COUNT(*) DESC;"
            ],
            "metadata": {
                "azdata_cell_guid": "0395d401-1d7a-47b8-8a51-7a3a83af1665",
                "language": "sql"
            },
            "outputs": [],
            "execution_count": null
        },
        {
            "cell_type": "markdown",
            "source": [
                "## **Oktatók sorrendje az alapján, hogy tanulóik hány százalékban teljesítik a vizsgákat**"
            ],
            "metadata": {
                "azdata_cell_guid": "bd0db3c1-3947-4700-b694-f0b56ba4468c"
            },
            "attachments": {}
        },
        {
            "cell_type": "code",
            "source": [
                "SELECT \r\n",
                "    o.nev AS Oktató,\r\n",
                "    COUNT(v.vizsga_id) AS Összes_vizsga,\r\n",
                "    SUM(CASE WHEN v.teljesitette = 1 THEN 1 ELSE 0 END) AS Sikeres_vizsga,\r\n",
                "    CAST(SUM(CASE WHEN v.teljesitette = 1 THEN 1 ELSE 0 END) * 100.0 / COUNT(v.vizsga_id) AS DECIMAL(5,2)) AS Sikerességi_arány\r\n",
                "FROM oktatok o\r\n",
                "JOIN tanfolyam tf ON o.oktato_id = tf.oktato_fk\r\n",
                "JOIN vizsga v ON tf.tanfolyam_id = v.tanfolyam_fk\r\n",
                "GROUP BY o.nev\r\n",
                "ORDER BY Sikerességi_arány DESC;"
            ],
            "metadata": {
                "azdata_cell_guid": "261c98f0-8435-4b9f-8817-e97cdebcc882",
                "language": "sql",
                "tags": []
            },
            "outputs": [],
            "execution_count": null
        }
    ]
}