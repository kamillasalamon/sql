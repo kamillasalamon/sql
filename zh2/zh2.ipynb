{
    "metadata": {
        "kernelspec": {
            "name": "SQL",
            "display_name": "SQL",
            "language": "sql"
        },
        "language_info": {
            "name": "sql",
            "version": ""
        }
    },
    "nbformat_minor": 2,
    "nbformat": 4,
    "cells": [
        {
            "cell_type": "code",
            "source": [
                "--1.\r\n",
                "SELECT SZOBA_FK,\r\n",
                "       FOGLALAS_PK,\r\n",
                "       DATEDIFF(day,MEDDIG,METTOL) as 'időtartam',\r\n",
                "       DATEDIFF(day,MEDDIG,METTOL) over(\r\n",
                "        PARTITION BY SZOBA_FK\r\n",
                "        ORDER BY METTOL\r\n",
                "        ROWS BETWEEN 1 PRECEDING AND 1 PRECEDING\r\n",
                "       )\r\n",
                "FROM Foglalas\r\n",
                "\r\n",
                ""
            ],
            "metadata": {
                "azdata_cell_guid": "983b2ef4-93b9-4f92-87e3-86ff3dd6518c",
                "language": "sql"
            },
            "outputs": [
                {
                    "output_type": "error",
                    "evalue": "Msg 4113, Level 15, State 1, Line 5\r\nThe function 'DATEDIFF' is not a valid windowing function, and cannot be used with the OVER clause.",
                    "ename": "",
                    "traceback": []
                },
                {
                    "output_type": "display_data",
                    "data": {
                        "text/html": "Total execution time: 00:00:00.010"
                    },
                    "metadata": {}
                }
            ],
            "execution_count": 1
        },
        {
            "cell_type": "code",
            "source": [
                "--2.\r\n",
                "SELECT SZALLAS_ID,\r\n",
                "       SZALLAS_NEV,\r\n",
                "       CSILLAGOK_SZAMA,\r\n",
                "       IIF(CSILLAGOK_SZAMA=3,'igen','nem') as 'Legalább 3 csillagos_e'\r\n",
                "FROM Szallashely\r\n",
                "WHERE SZALLAS_ID NOT IN\r\n",
                "(\r\n",
                "    Select SZALLAS_FK\r\n",
                "    FROM Szoba\r\n",
                "    WHERE FEROHELY=3\r\n",
                ")"
            ],
            "metadata": {
                "azdata_cell_guid": "0d1f4e01-2dc9-4bf0-a58d-d5d575878cfd",
                "language": "sql"
            },
            "outputs": [
                {
                    "output_type": "display_data",
                    "data": {
                        "text/html": "(2 rows affected)"
                    },
                    "metadata": {}
                },
                {
                    "output_type": "display_data",
                    "data": {
                        "text/html": "Total execution time: 00:00:00.065"
                    },
                    "metadata": {}
                },
                {
                    "output_type": "execute_result",
                    "metadata": {},
                    "execution_count": 3,
                    "data": {
                        "application/vnd.dataresource+json": {
                            "schema": {
                                "fields": [
                                    {
                                        "name": "SZALLAS_ID"
                                    },
                                    {
                                        "name": "SZALLAS_NEV"
                                    },
                                    {
                                        "name": "CSILLAGOK_SZAMA"
                                    },
                                    {
                                        "name": "Legalább 3 csillagos_e"
                                    }
                                ]
                            },
                            "data": [
                                {
                                    "SZALLAS_ID": "19",
                                    "SZALLAS_NEV": "Nyárfás Vendégház",
                                    "CSILLAGOK_SZAMA": "0",
                                    "Legalább 3 csillagos_e": "nem"
                                },
                                {
                                    "SZALLAS_ID": "21",
                                    "SZALLAS_NEV": "Müller Vendégház",
                                    "CSILLAGOK_SZAMA": "0",
                                    "Legalább 3 csillagos_e": "nem"
                                }
                            ]
                        },
                        "text/html": [
                            "<table>",
                            "<tr><th>SZALLAS_ID</th><th>SZALLAS_NEV</th><th>CSILLAGOK_SZAMA</th><th>Legalább 3 csillagos_e</th></tr>",
                            "<tr><td>19</td><td>Nyárfás Vendégház</td><td>0</td><td>nem</td></tr>",
                            "<tr><td>21</td><td>Müller Vendégház</td><td>0</td><td>nem</td></tr>",
                            "</table>"
                        ]
                    }
                }
            ],
            "execution_count": 3
        }
    ]
}