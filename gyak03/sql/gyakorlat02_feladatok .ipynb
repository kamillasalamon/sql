{
    "metadata": {
        "kernelspec": {
            "name": "SQL",
            "display_name": "SQL",
            "language": "sql"
        },
        "language_info": {
            "name": "sql",
            "version": ""
        },
        "extensions": {
            "azuredatastudio": {
                "version": 1,
                "views": []
            }
        }
    },
    "nbformat_minor": 2,
    "nbformat": 4,
    "cells": [
        {
            "cell_type": "markdown",
            "source": [
                "1. <span style=\"color:rgb(36, 41, 47);font-family:-apple-system, BlinkMacSystemFont, &quot;Segoe UI&quot;, Helvetica, Arial, sans-serif, &quot;Apple Color Emoji&quot;, &quot;Segoe UI Emoji&quot;;font-size:16px;\">Készítsünk lekérdezést, amely listázza, hogy mely napokon hány db kölcsönzés történt!</span>\n",
                "\n",
                "<span style=\"font-size: 16px;\">a.&nbsp;</span> Az oszlopok neve legyen 'Dátum' és 'Kölcsönzések száma'  \n",
                "b. A listát rendezzük a kölcsönzés dátuma szerint csökkenő sorrendbe!"
            ],
            "metadata": {
                "azdata_cell_guid": "77f2d5b3-38e9-41cc-893f-f5afd02b97ef"
            },
            "attachments": {}
        },
        {
            "cell_type": "code",
            "source": [
                "SELECT ki_datum as 'Dátum', \r\n",
                "        count(ID) as 'Kölcsönzések száma'\r\n",
                "FROM kolcsonzesek\r\n",
                "GROUP BY ki_datum\r\n",
                "ORDER BY ki_datum DESC;"
            ],
            "metadata": {
                "azdata_cell_guid": "bd3cef1a-4e6e-4ece-9dc3-aaa9d2b5d66d",
                "language": "sql",
                "tags": []
            },
            "outputs": [
                {
                    "output_type": "display_data",
                    "data": {
                        "text/html": "(3 rows affected)"
                    },
                    "metadata": {}
                },
                {
                    "output_type": "display_data",
                    "data": {
                        "text/html": "Total execution time: 00:00:00.005"
                    },
                    "metadata": {}
                },
                {
                    "output_type": "execute_result",
                    "execution_count": 4,
                    "data": {
                        "application/vnd.dataresource+json": {
                            "schema": {
                                "fields": [
                                    {
                                        "name": "Dátum"
                                    },
                                    {
                                        "name": "Kölcsönzések száma"
                                    }
                                ]
                            },
                            "data": [
                                {
                                    "Dátum": "2006-10-02",
                                    "Kölcsönzések száma": "1"
                                },
                                {
                                    "Dátum": "2006-10-01",
                                    "Kölcsönzések száma": "1"
                                },
                                {
                                    "Dátum": "2003-12-11",
                                    "Kölcsönzések száma": "3"
                                }
                            ]
                        },
                        "text/html": "<table><tr><th>Dátum</th><th>Kölcsönzések száma</th></tr><tr><td>2006-10-02</td><td>1</td></tr><tr><td>2006-10-01</td><td>1</td></tr><tr><td>2003-12-11</td><td>3</td></tr></table>"
                    },
                    "metadata": {}
                }
            ],
            "execution_count": 4
        },
        {
            "cell_type": "markdown",
            "source": [
                "2. <span style=\"font-weight: 600; color: rgb(36, 41, 47); font-family: -apple-system, BlinkMacSystemFont, &quot;Segoe UI&quot;, Helvetica, Arial, sans-serif, &quot;Apple Color Emoji&quot;, &quot;Segoe UI Emoji&quot;; font-size: 16px;\">Mennyi a dvd-k átlagos ára stílusonkénti bontásban?</span>\n",
                "\n",
                "1. Csak azokat a stílusokat vegyük figyelembe, ahol az átlagos ár 4500 Ft feletti!\n",
                "2. Az oszlopokat nevezzük el értelemszerűen!\n",
                "3. A listát rendezzük átlagos ár szerint csökkenő sorrendbe!"
            ],
            "metadata": {
                "azdata_cell_guid": "88f5b4bb-f4c1-4bad-a0c7-b2592687b422"
            },
            "attachments": {}
        },
        {
            "cell_type": "code",
            "source": [
                "SELECT stilus as 'stílus', avg(nettoar) as 'Átlagár'\r\n",
                "FROM dvd\r\n",
                "GROUP BY stilus\r\n",
                "HAVING avg(nettoar) > 4500\r\n",
                "ORDER BY 2 desc;"
            ],
            "metadata": {
                "azdata_cell_guid": "e9de5726-f036-4fb9-8c33-a873955ed886",
                "language": "sql"
            },
            "outputs": [
                {
                    "output_type": "display_data",
                    "data": {
                        "text/html": "(30 rows affected)"
                    },
                    "metadata": {}
                },
                {
                    "output_type": "display_data",
                    "data": {
                        "text/html": "Total execution time: 00:00:00.054"
                    },
                    "metadata": {}
                },
                {
                    "output_type": "execute_result",
                    "metadata": {},
                    "execution_count": 2,
                    "data": {
                        "application/vnd.dataresource+json": {
                            "schema": {
                                "fields": [
                                    {
                                        "name": "stílus"
                                    },
                                    {
                                        "name": "Átlagár"
                                    }
                                ]
                            },
                            "data": [
                                {
                                    "stílus": "ásványtan",
                                    "Átlagár": "5624"
                                },
                                {
                                    "stílus": "játék (rodeó)",
                                    "Átlagár": "5591"
                                },
                                {
                                    "stílus": "humor",
                                    "Átlagár": "5573"
                                },
                                {
                                    "stílus": "környezetvédelem",
                                    "Átlagár": "5508"
                                },
                                {
                                    "stílus": "kresz",
                                    "Átlagár": "5476"
                                },
                                {
                                    "stílus": "játék (jégkorong)",
                                    "Átlagár": "5242"
                                },
                                {
                                    "stílus": "színház",
                                    "Átlagár": "5158"
                                },
                                {
                                    "stílus": "múvészet",
                                    "Átlagár": "5118"
                                },
                                {
                                    "stílus": "kémia",
                                    "Átlagár": "5094"
                                },
                                {
                                    "stílus": "fordító program",
                                    "Átlagár": "5036"
                                },
                                {
                                    "stílus": "kerttervező",
                                    "Átlagár": "4951"
                                },
                                {
                                    "stílus": "művészet",
                                    "Átlagár": "4939,25"
                                },
                                {
                                    "stílus": "festészet",
                                    "Átlagár": "4901"
                                },
                                {
                                    "stílus": "zene",
                                    "Átlagár": "4855,333333333333"
                                },
                                {
                                    "stílus": "játék",
                                    "Átlagár": "4850,466666666666"
                                },
                                {
                                    "stílus": "játék (labdarúgás)",
                                    "Átlagár": "4817,333333333333"
                                },
                                {
                                    "stílus": "állattan",
                                    "Átlagár": "4783,666666666667"
                                },
                                {
                                    "stílus": "nyelvtan",
                                    "Átlagár": "4770,666666666667"
                                },
                                {
                                    "stílus": "fizika",
                                    "Átlagár": "4769"
                                },
                                {
                                    "stílus": "nyelvtanító",
                                    "Átlagár": "4759,476190476191"
                                },
                                {
                                    "stílus": "csillagászat",
                                    "Átlagár": "4733,571428571428"
                                },
                                {
                                    "stílus": "ismeretterjesztő",
                                    "Átlagár": "4726,673913043478"
                                },
                                {
                                    "stílus": "irodalom, nyelv",
                                    "Átlagár": "4704"
                                },
                                {
                                    "stílus": "gasztronómia",
                                    "Átlagár": "4691"
                                },
                                {
                                    "stílus": "történelem",
                                    "Átlagár": "4655,731707317073"
                                },
                                {
                                    "stílus": "szótár",
                                    "Átlagár": "4624,428571428572"
                                },
                                {
                                    "stílus": "sport",
                                    "Átlagár": "4607"
                                },
                                {
                                    "stílus": "földrajz",
                                    "Átlagár": "4580,0625"
                                },
                                {
                                    "stílus": "matematika",
                                    "Átlagár": "4520,777777777777"
                                },
                                {
                                    "stílus": "felvételi",
                                    "Átlagár": "4501,333333333333"
                                }
                            ]
                        },
                        "text/html": [
                            "<table>",
                            "<tr><th>stílus</th><th>Átlagár</th></tr>",
                            "<tr><td>ásványtan</td><td>5624</td></tr>",
                            "<tr><td>játék (rodeó)</td><td>5591</td></tr>",
                            "<tr><td>humor</td><td>5573</td></tr>",
                            "<tr><td>környezetvédelem</td><td>5508</td></tr>",
                            "<tr><td>kresz</td><td>5476</td></tr>",
                            "<tr><td>játék (jégkorong)</td><td>5242</td></tr>",
                            "<tr><td>színház</td><td>5158</td></tr>",
                            "<tr><td>múvészet</td><td>5118</td></tr>",
                            "<tr><td>kémia</td><td>5094</td></tr>",
                            "<tr><td>fordító program</td><td>5036</td></tr>",
                            "<tr><td>kerttervező</td><td>4951</td></tr>",
                            "<tr><td>művészet</td><td>4939,25</td></tr>",
                            "<tr><td>festészet</td><td>4901</td></tr>",
                            "<tr><td>zene</td><td>4855,333333333333</td></tr>",
                            "<tr><td>játék</td><td>4850,466666666666</td></tr>",
                            "<tr><td>játék (labdarúgás)</td><td>4817,333333333333</td></tr>",
                            "<tr><td>állattan</td><td>4783,666666666667</td></tr>",
                            "<tr><td>nyelvtan</td><td>4770,666666666667</td></tr>",
                            "<tr><td>fizika</td><td>4769</td></tr>",
                            "<tr><td>nyelvtanító</td><td>4759,476190476191</td></tr>",
                            "<tr><td>csillagászat</td><td>4733,571428571428</td></tr>",
                            "<tr><td>ismeretterjesztő</td><td>4726,673913043478</td></tr>",
                            "<tr><td>irodalom, nyelv</td><td>4704</td></tr>",
                            "<tr><td>gasztronómia</td><td>4691</td></tr>",
                            "<tr><td>történelem</td><td>4655,731707317073</td></tr>",
                            "<tr><td>szótár</td><td>4624,428571428572</td></tr>",
                            "<tr><td>sport</td><td>4607</td></tr>",
                            "<tr><td>földrajz</td><td>4580,0625</td></tr>",
                            "<tr><td>matematika</td><td>4520,777777777777</td></tr>",
                            "<tr><td>felvételi</td><td>4501,333333333333</td></tr>",
                            "</table>"
                        ]
                    }
                }
            ],
            "execution_count": 2
        },
        {
            "cell_type": "markdown",
            "source": [
                "3. <span style=\"color:rgb(36, 41, 47);font-family:-apple-system, BlinkMacSystemFont, &quot;Segoe UI&quot;, Helvetica, Arial, sans-serif, &quot;Apple Color Emoji&quot;, &quot;Segoe UI Emoji&quot;;font-size:16px;\">Listázzuk nyelvenkénti, azon belül stílusonkénti bontásban, hogy mennyi a dvd-k legkisebb és legnagyobb ára!&nbsp;</span> \n",
                "\n",
                "<span style=\"font-size: 16px;\">a. Az oszlopok neve legyen 'Nyelv', 'Stílus', 'MinÁr' és 'MaxÁr'!<br>b.&nbsp;</span> A listából hagyjuk ki azokat a sorokat, ahol a nyelv vagy a stílus nincs megadva!  \n",
                "c. Szintén hagyjuk ki azokat a csoportokat, ahol a csoport elemszáma 3-nál kisebb!"
            ],
            "metadata": {
                "azdata_cell_guid": "9e7249de-1b59-43d8-84b1-26fa7d81fc5a"
            },
            "attachments": {}
        },
        {
            "cell_type": "code",
            "source": [
                "SELECT lang as 'Nyelv', \r\n",
                "    stilus as 'Stílus',\r\n",
                "    min(nettoar) as 'MinÁr', \r\n",
                "    max(nettoar) as 'MaxÁr'\r\n",
                "from dvd\r\n",
                "where cim is not null or stilus is not null\r\n",
                "GROUP BY lang, stilus\r\n",
                "HAVING count(*)>3;\r\n",
                ""
            ],
            "metadata": {
                "azdata_cell_guid": "6405d3e8-a9b1-45d7-aa76-3b1e785ef6cc",
                "language": "sql"
            },
            "outputs": [
                {
                    "output_type": "display_data",
                    "data": {
                        "text/html": "(19 rows affected)"
                    },
                    "metadata": {}
                },
                {
                    "output_type": "display_data",
                    "data": {
                        "text/html": "Total execution time: 00:00:00.013"
                    },
                    "metadata": {}
                },
                {
                    "output_type": "execute_result",
                    "metadata": {},
                    "execution_count": 6,
                    "data": {
                        "application/vnd.dataresource+json": {
                            "schema": {
                                "fields": [
                                    {
                                        "name": "Nyelv"
                                    },
                                    {
                                        "name": "Stílus"
                                    },
                                    {
                                        "name": "MinÁr"
                                    },
                                    {
                                        "name": "MaxÁr"
                                    }
                                ]
                            },
                            "data": [
                                {
                                    "Nyelv": "1",
                                    "Stílus": "biológia",
                                    "MinÁr": "3482",
                                    "MaxÁr": "5543"
                                },
                                {
                                    "Nyelv": "1",
                                    "Stílus": "csillagászat",
                                    "MinÁr": "3582",
                                    "MaxÁr": "5992"
                                },
                                {
                                    "Nyelv": "1",
                                    "Stílus": "felvételi",
                                    "MinÁr": "3215",
                                    "MaxÁr": "5955"
                                },
                                {
                                    "Nyelv": "1",
                                    "Stílus": "földrajz",
                                    "MinÁr": "3123",
                                    "MaxÁr": "6065"
                                },
                                {
                                    "Nyelv": "1",
                                    "Stílus": "gasztronómia",
                                    "MinÁr": "3258",
                                    "MaxÁr": "5706"
                                },
                                {
                                    "Nyelv": "1",
                                    "Stílus": "irodalom",
                                    "MinÁr": "3391",
                                    "MaxÁr": "5654"
                                },
                                {
                                    "Nyelv": "1",
                                    "Stílus": "ismeretterjesztő",
                                    "MinÁr": "3256",
                                    "MaxÁr": "6072"
                                },
                                {
                                    "Nyelv": "1",
                                    "Stílus": "játék",
                                    "MinÁr": "3110",
                                    "MaxÁr": "6078"
                                },
                                {
                                    "Nyelv": "2",
                                    "Stílus": "játék",
                                    "MinÁr": "3144",
                                    "MaxÁr": "6062"
                                },
                                {
                                    "Nyelv": "2",
                                    "Stílus": "játék (autóverseny)",
                                    "MinÁr": "3106",
                                    "MaxÁr": "5005"
                                },
                                {
                                    "Nyelv": "1",
                                    "Stílus": "matematika",
                                    "MinÁr": "3105",
                                    "MaxÁr": "5995"
                                },
                                {
                                    "Nyelv": "1",
                                    "Stílus": "művészet",
                                    "MinÁr": "3490",
                                    "MaxÁr": "6098"
                                },
                                {
                                    "Nyelv": "2",
                                    "Stílus": "nyelvtanító",
                                    "MinÁr": "3115",
                                    "MaxÁr": "6068"
                                },
                                {
                                    "Nyelv": "3",
                                    "Stílus": "nyelvtanító",
                                    "MinÁr": "3313",
                                    "MaxÁr": "5990"
                                },
                                {
                                    "Nyelv": "4",
                                    "Stílus": "nyelvtanító",
                                    "MinÁr": "3419",
                                    "MaxÁr": "6082"
                                },
                                {
                                    "Nyelv": "6",
                                    "Stílus": "nyelvtanító",
                                    "MinÁr": "3775",
                                    "MaxÁr": "5882"
                                },
                                {
                                    "Nyelv": "7",
                                    "Stílus": "nyelvtanító",
                                    "MinÁr": "3770",
                                    "MaxÁr": "5619"
                                },
                                {
                                    "Nyelv": "1",
                                    "Stílus": "történelem",
                                    "MinÁr": "3122",
                                    "MaxÁr": "6084"
                                },
                                {
                                    "Nyelv": "1",
                                    "Stílus": "zene",
                                    "MinÁr": "3391",
                                    "MaxÁr": "5730"
                                }
                            ]
                        },
                        "text/html": [
                            "<table>",
                            "<tr><th>Nyelv</th><th>Stílus</th><th>MinÁr</th><th>MaxÁr</th></tr>",
                            "<tr><td>1</td><td>biológia</td><td>3482</td><td>5543</td></tr>",
                            "<tr><td>1</td><td>csillagászat</td><td>3582</td><td>5992</td></tr>",
                            "<tr><td>1</td><td>felvételi</td><td>3215</td><td>5955</td></tr>",
                            "<tr><td>1</td><td>földrajz</td><td>3123</td><td>6065</td></tr>",
                            "<tr><td>1</td><td>gasztronómia</td><td>3258</td><td>5706</td></tr>",
                            "<tr><td>1</td><td>irodalom</td><td>3391</td><td>5654</td></tr>",
                            "<tr><td>1</td><td>ismeretterjesztő</td><td>3256</td><td>6072</td></tr>",
                            "<tr><td>1</td><td>játék</td><td>3110</td><td>6078</td></tr>",
                            "<tr><td>2</td><td>játék</td><td>3144</td><td>6062</td></tr>",
                            "<tr><td>2</td><td>játék (autóverseny)</td><td>3106</td><td>5005</td></tr>",
                            "<tr><td>1</td><td>matematika</td><td>3105</td><td>5995</td></tr>",
                            "<tr><td>1</td><td>művészet</td><td>3490</td><td>6098</td></tr>",
                            "<tr><td>2</td><td>nyelvtanító</td><td>3115</td><td>6068</td></tr>",
                            "<tr><td>3</td><td>nyelvtanító</td><td>3313</td><td>5990</td></tr>",
                            "<tr><td>4</td><td>nyelvtanító</td><td>3419</td><td>6082</td></tr>",
                            "<tr><td>6</td><td>nyelvtanító</td><td>3775</td><td>5882</td></tr>",
                            "<tr><td>7</td><td>nyelvtanító</td><td>3770</td><td>5619</td></tr>",
                            "<tr><td>1</td><td>történelem</td><td>3122</td><td>6084</td></tr>",
                            "<tr><td>1</td><td>zene</td><td>3391</td><td>5730</td></tr>",
                            "</table>"
                        ]
                    }
                }
            ],
            "execution_count": 6
        },
        {
            "cell_type": "markdown",
            "source": [
                "4. <span style=\"color: rgb(36, 41, 47); font-family: -apple-system, BlinkMacSystemFont, &quot;Segoe UI&quot;, Helvetica, Arial, sans-serif, &quot;Apple Color Emoji&quot;, &quot;Segoe UI Emoji&quot;; font-size: 16px;\">Készítsünk listát, amely a csoportokat hoz létre aszerint, hogy a mai naptól számítva hány nap telt el a kölcsönzés kezdete óta. A lista jelenítse meg csoportonkénti bontásban a kikölcsönzött dvd-k számát!</span>\n",
                "\n",
                "1. Az oszlopokat nevezzük el értelemszerűen!\n",
                "2. A listát rendezzük az eltelt napok száma szerint csökkenő sorrendbe!"
            ],
            "metadata": {
                "azdata_cell_guid": "6478e469-c094-472c-a772-ccd5b5c61516"
            },
            "attachments": {}
        },
        {
            "cell_type": "code",
            "source": [
                "SELECT DATEDIFF(day,ki_datum,getdate()) AS 'hány nap telt el',\r\n",
                "        count(*)\r\n",
                "FROM kolcsonzesek\r\n",
                "GROUP BY DATEDIFF(day,ki_datum,getdate())"
            ],
            "metadata": {
                "azdata_cell_guid": "02031ea2-3838-458d-839c-228e3b362b61",
                "language": "sql"
            },
            "outputs": [
                {
                    "output_type": "display_data",
                    "data": {
                        "text/html": "(3 rows affected)"
                    },
                    "metadata": {}
                },
                {
                    "output_type": "display_data",
                    "data": {
                        "text/html": "Total execution time: 00:00:00.005"
                    },
                    "metadata": {}
                },
                {
                    "output_type": "execute_result",
                    "metadata": {},
                    "execution_count": 13,
                    "data": {
                        "application/vnd.dataresource+json": {
                            "schema": {
                                "fields": [
                                    {
                                        "name": "hány nap telt el"
                                    },
                                    {
                                        "name": "(No column name)"
                                    }
                                ]
                            },
                            "data": [
                                {
                                    "hány nap telt el": "6721",
                                    "(No column name)": "1"
                                },
                                {
                                    "hány nap telt el": "6722",
                                    "(No column name)": "1"
                                },
                                {
                                    "hány nap telt el": "7747",
                                    "(No column name)": "3"
                                }
                            ]
                        },
                        "text/html": [
                            "<table>",
                            "<tr><th>hány nap telt el</th><th>(No column name)</th></tr>",
                            "<tr><td>6721</td><td>1</td></tr>",
                            "<tr><td>6722</td><td>1</td></tr>",
                            "<tr><td>7747</td><td>3</td></tr>",
                            "</table>"
                        ]
                    }
                }
            ],
            "execution_count": 13
        },
        {
            "cell_type": "markdown",
            "source": [
                "5. <span style=\"color: rgb(36, 41, 47); font-family: -apple-system, BlinkMacSystemFont, &quot;Segoe UI&quot;, Helvetica, Arial, sans-serif, &quot;Apple Color Emoji&quot;, &quot;Segoe UI Emoji&quot;; font-size: 16px;\">A kölcsönző tulajdonosa elhatározza, hogy ezentúl kerekebb árakat alkalmaz. Ezért minden dvd árát 1000 Ft-ra kerekíti. Készítsünk lekérdezést, amely megmutatja, hogy melyik 1000 Ft-ra kerekített ár szerint, azon belül stílus szerint hány db dvd összesen raktáron! **</span>\n",
                "\n",
                "1. Csak olyan csoportokat listázzunk, ahol a raktárkészlet legalább 30!\n",
                "2. A listát rendezzük kerekített ár szerint, azon belül raktárkészlet szerint növekvő sorrendbe!"
            ],
            "metadata": {
                "azdata_cell_guid": "9edbbaf9-c276-4898-9a01-e1b2993c089f"
            },
            "attachments": {}
        },
        {
            "cell_type": "code",
            "source": [
                ""
            ],
            "metadata": {
                "azdata_cell_guid": "5ad5fdcb-2878-4111-861a-833bcd50e935",
                "language": "sql"
            },
            "outputs": [],
            "execution_count": null
        },
        {
            "cell_type": "markdown",
            "source": [
                "6. <span style=\"font-weight: 600; color: rgb(36, 41, 47); font-family: -apple-system, BlinkMacSystemFont, &quot;Segoe UI&quot;, Helvetica, Arial, sans-serif, &quot;Apple Color Emoji&quot;, &quot;Segoe UI Emoji&quot;; font-size: 16px;\">A dvd-ket csoportosíthatjuk aszerint, hogy milyen hosszú a címük. Amelyiknél a cím hosszúsága 10 karakter alatt van, az legyen Rövid, 10-20-ig Átlagos, 20 felett Hosszú. Hány Rövid, Átlagos, illetve Hosszú dvd-van összesen raktáron?</span>\n",
                "\n",
                "1. Az oszlopok neve legyen 'Cím hosszúság' és 'Darabszám"
            ],
            "metadata": {
                "azdata_cell_guid": "5fe65c1c-2479-45ac-ad03-ec99d12eae21"
            },
            "attachments": {}
        },
        {
            "cell_type": "code",
            "source": [
                ""
            ],
            "metadata": {
                "azdata_cell_guid": "924f2dde-f1c2-4def-a7f9-dbf4bace7735",
                "language": "sql"
            },
            "outputs": [],
            "execution_count": null
        },
        {
            "cell_type": "markdown",
            "source": [
                "7. <span style=\"color: rgb(36, 41, 47); font-family: -apple-system, BlinkMacSystemFont, &quot;Segoe UI&quot;, Helvetica, Arial, sans-serif, &quot;Apple Color Emoji&quot;, &quot;Segoe UI Emoji&quot;; font-size: 16px;\">Készítsünk listát arról, hogy melyik teremben hány óra van!</span>\n",
                "\n",
                "1. Jelenítsük meg a termek azonosítóit és a teremben tartott órák számát!\n",
                "2. Az oszlopokat nevezzük el értelemszerűen!\n",
                "3. Szűrjünk azokra a termekre, ahol az órák száma legalább 3!"
            ],
            "metadata": {
                "azdata_cell_guid": "3aeb6bf5-b111-40d5-92b2-9712ce335696"
            },
            "attachments": {}
        },
        {
            "cell_type": "code",
            "source": [
                "select terem, count(*) as 'db'\r\n",
                "from Orak\r\n",
                "GROUP by terem\r\n",
                "HAVING count(*) >=3;"
            ],
            "metadata": {
                "azdata_cell_guid": "3e89b651-f56f-4102-af52-30eb2bbe360d",
                "language": "sql"
            },
            "outputs": [
                {
                    "output_type": "display_data",
                    "data": {
                        "text/html": "(11 rows affected)"
                    },
                    "metadata": {}
                },
                {
                    "output_type": "display_data",
                    "data": {
                        "text/html": "Total execution time: 00:00:00.005"
                    },
                    "metadata": {}
                },
                {
                    "output_type": "execute_result",
                    "metadata": {},
                    "execution_count": 14,
                    "data": {
                        "application/vnd.dataresource+json": {
                            "schema": {
                                "fields": [
                                    {
                                        "name": "terem"
                                    },
                                    {
                                        "name": "db"
                                    }
                                ]
                            },
                            "data": [
                                {
                                    "terem": "2",
                                    "db": "5"
                                },
                                {
                                    "terem": "3",
                                    "db": "11"
                                },
                                {
                                    "terem": "4",
                                    "db": "8"
                                },
                                {
                                    "terem": "5",
                                    "db": "5"
                                },
                                {
                                    "terem": "6",
                                    "db": "6"
                                },
                                {
                                    "terem": "7",
                                    "db": "6"
                                },
                                {
                                    "terem": "8",
                                    "db": "6"
                                },
                                {
                                    "terem": "10",
                                    "db": "3"
                                },
                                {
                                    "terem": "12",
                                    "db": "3"
                                },
                                {
                                    "terem": "13",
                                    "db": "5"
                                },
                                {
                                    "terem": "14",
                                    "db": "3"
                                }
                            ]
                        },
                        "text/html": [
                            "<table>",
                            "<tr><th>terem</th><th>db</th></tr>",
                            "<tr><td>2</td><td>5</td></tr>",
                            "<tr><td>3</td><td>11</td></tr>",
                            "<tr><td>4</td><td>8</td></tr>",
                            "<tr><td>5</td><td>5</td></tr>",
                            "<tr><td>6</td><td>6</td></tr>",
                            "<tr><td>7</td><td>6</td></tr>",
                            "<tr><td>8</td><td>6</td></tr>",
                            "<tr><td>10</td><td>3</td></tr>",
                            "<tr><td>12</td><td>3</td></tr>",
                            "<tr><td>13</td><td>5</td></tr>",
                            "<tr><td>14</td><td>3</td></tr>",
                            "</table>"
                        ]
                    }
                }
            ],
            "execution_count": 14
        },
        {
            "cell_type": "markdown",
            "source": [
                "8. <span style=\"color: rgb(36, 41, 47); font-family: -apple-system, BlinkMacSystemFont, &quot;Segoe UI&quot;, Helvetica, Arial, sans-serif, &quot;Apple Color Emoji&quot;, &quot;Segoe UI Emoji&quot;; font-size: 16px;\">Készítsünk lekérdezést, amely megadja, hogy minimálian és maximálisan hány kreditet ér egy tantárgy!</span>\n",
                "\n",
                "1. Az oszlopokat nevezzük el értelemszerűen!\n",
                "2. Ne vegyük figyelembe azokat a tantárgyakat, amelyek nevében az „alapjai” szó szerepel, vagy a tantárgy neve 10 karakternél rövidebb!"
            ],
            "metadata": {
                "azdata_cell_guid": "26a504dc-ff6a-439f-94c0-4580eca3eacf"
            },
            "attachments": {}
        },
        {
            "cell_type": "code",
            "source": [
                ""
            ],
            "metadata": {
                "azdata_cell_guid": "1cbb8aeb-78b5-4350-aa45-e3202fdab85b",
                "language": "sql"
            },
            "outputs": [],
            "execution_count": null
        },
        {
            "cell_type": "markdown",
            "source": [
                "9. <span style=\"color: rgb(36, 41, 47); font-family: -apple-system, BlinkMacSystemFont, &quot;Segoe UI&quot;, Helvetica, Arial, sans-serif, &quot;Apple Color Emoji&quot;, &quot;Segoe UI Emoji&quot;; font-size: 16px;\">A tapasztalat alapján a tanársegédeknek 8, az óraadóknak 10 órájuk van egy héten. A többiek annyi órát tartanak, amennyi az elvárt óraszámuk. Készítsünk lekérdezést, amely minden beosztáshoz megjeleníti, hogy hetente hány túlóra tartozik hozzá!</span>\n",
                "\n",
                "1. A lekérdezés csak a beosztások nevét és a heti túlórák számát jelenítse meg!"
            ],
            "metadata": {
                "azdata_cell_guid": "435e2860-2dd5-4877-90f4-34a43baeb53c"
            },
            "attachments": {}
        },
        {
            "cell_type": "code",
            "source": [
                ""
            ],
            "metadata": {
                "azdata_cell_guid": "ce846351-ddbe-4d8e-b8fb-2a92c73ac80b",
                "language": "sql"
            },
            "outputs": [],
            "execution_count": null
        },
        {
            "cell_type": "markdown",
            "source": [
                "10. <span style=\"font-weight: 600; color: rgb(36, 41, 47); font-family: -apple-system, BlinkMacSystemFont, &quot;Segoe UI&quot;, Helvetica, Arial, sans-serif, &quot;Apple Color Emoji&quot;, &quot;Segoe UI Emoji&quot;; font-size: 16px;\">Melyek azok az oktatók, akiknek nincs órájuk?</span>\n",
                "\n",
                "1. Csak az oktatók neve jelenjen meg!\n",
                "2. ÖTLET: használjunk LEFT JOIN-t, és szűrjünk azokra a rekordokra, ahol NULL érték van a JOIN utáni feltétel jobb oldalán!"
            ],
            "metadata": {
                "azdata_cell_guid": "217c5772-afe2-4a7c-b913-e3a3e09d6411"
            },
            "attachments": {}
        },
        {
            "cell_type": "code",
            "source": [
                ""
            ],
            "metadata": {
                "azdata_cell_guid": "a9cc0926-3dbd-4ed8-8179-1c39d64a0762",
                "language": "sql"
            },
            "outputs": [],
            "execution_count": null
        },
        {
            "cell_type": "markdown",
            "source": [
                "11. <span style=\"font-weight: 600; color: rgb(36, 41, 47); font-family: -apple-system, BlinkMacSystemFont, &quot;Segoe UI&quot;, Helvetica, Arial, sans-serif, &quot;Apple Color Emoji&quot;, &quot;Segoe UI Emoji&quot;; font-size: 16px;\">Készítsünk lekérdezést, amely részletesen megjeleníti az egyes órák fontosabb adatait, azaz</span>\n",
                "\n",
                "1. Az órák azonosítóit, a tanár nevét, a tantárgy nevét, a terem nevét és a kezdési időpontot!\n",
                "2. Az oszlopokat nevezzük el értelemszerűen!"
            ],
            "metadata": {
                "azdata_cell_guid": "d2340f5f-1614-473c-b937-85740d67f7c1"
            },
            "attachments": {}
        },
        {
            "cell_type": "code",
            "source": [
                "SELECT o.ora_id, \r\n",
                "        okt.nev,\r\n",
                "        t.Tantárgynév,\r\n",
                "        tm.Terem,\r\n",
                "        s.Időpont\r\n",
                "FROM Orak o JOIN Oktatok okt ON o.tanar=okt.oktato_id\r\n",
                "            JOIN Tantárgyak t ON o.targy=t.Tkód\r\n",
                "            JOIN Termek tm On o.terem=tm.Tkód\r\n",
                "            JOIN Savok s ON o.Sav = s.Sav_id\r\n",
                ""
            ],
            "metadata": {
                "azdata_cell_guid": "e99c2c53-898f-4787-b0e6-182d106dc16f",
                "language": "sql",
                "tags": []
            },
            "outputs": [
                {
                    "output_type": "display_data",
                    "data": {
                        "text/html": "(67 rows affected)"
                    },
                    "metadata": {}
                },
                {
                    "output_type": "display_data",
                    "data": {
                        "text/html": "Total execution time: 00:00:00.061"
                    },
                    "metadata": {}
                },
                {
                    "output_type": "execute_result",
                    "metadata": {},
                    "execution_count": 15,
                    "data": {
                        "application/vnd.dataresource+json": {
                            "schema": {
                                "fields": [
                                    {
                                        "name": "ora_id"
                                    },
                                    {
                                        "name": "nev"
                                    }
                                ]
                            },
                            "data": [
                                {
                                    "ora_id": "159",
                                    "nev": "Ujfalussi István"
                                },
                                {
                                    "ora_id": "160",
                                    "nev": "Pelikán József"
                                },
                                {
                                    "ora_id": "161",
                                    "nev": "Pelikán József"
                                },
                                {
                                    "ora_id": "162",
                                    "nev": "Kovács András"
                                },
                                {
                                    "ora_id": "163",
                                    "nev": "Szerb László"
                                },
                                {
                                    "ora_id": "164",
                                    "nev": "Kiss János"
                                },
                                {
                                    "ora_id": "165",
                                    "nev": "Szerb László"
                                },
                                {
                                    "ora_id": "166",
                                    "nev": "Szerb László"
                                },
                                {
                                    "ora_id": "167",
                                    "nev": "Szentágotai Istvás"
                                },
                                {
                                    "ora_id": "168",
                                    "nev": "Ujfalussi István"
                                },
                                {
                                    "ora_id": "169",
                                    "nev": "Kovács András"
                                },
                                {
                                    "ora_id": "170",
                                    "nev": "Ludas Mátyás"
                                },
                                {
                                    "ora_id": "171",
                                    "nev": "Szénási ászló"
                                },
                                {
                                    "ora_id": "172",
                                    "nev": "Kiss János"
                                },
                                {
                                    "ora_id": "173",
                                    "nev": "Kovács András"
                                },
                                {
                                    "ora_id": "174",
                                    "nev": "Ludas Mátyás"
                                },
                                {
                                    "ora_id": "175",
                                    "nev": "Szénási ászló"
                                },
                                {
                                    "ora_id": "176",
                                    "nev": "Kovács András"
                                },
                                {
                                    "ora_id": "177",
                                    "nev": "Szentágotai Istvás"
                                },
                                {
                                    "ora_id": "178",
                                    "nev": "Vitéz János"
                                },
                                {
                                    "ora_id": "179",
                                    "nev": "Szentágotai Istvás"
                                },
                                {
                                    "ora_id": "180",
                                    "nev": "Vitéz János"
                                },
                                {
                                    "ora_id": "181",
                                    "nev": "Szentágotai Istvás"
                                },
                                {
                                    "ora_id": "182",
                                    "nev": "Vitéz János"
                                },
                                {
                                    "ora_id": "183",
                                    "nev": "Szentágotai Istvás"
                                },
                                {
                                    "ora_id": "184",
                                    "nev": "Vitéz János"
                                },
                                {
                                    "ora_id": "185",
                                    "nev": "Szentágotai Istvás"
                                },
                                {
                                    "ora_id": "186",
                                    "nev": "Nógrádi Kata"
                                },
                                {
                                    "ora_id": "187",
                                    "nev": "Balkán András"
                                },
                                {
                                    "ora_id": "188",
                                    "nev": "Farkasos Piroska"
                                },
                                {
                                    "ora_id": "189",
                                    "nev": "Farkasos Piroska"
                                },
                                {
                                    "ora_id": "190",
                                    "nev": "Farkasos Piroska"
                                },
                                {
                                    "ora_id": "191",
                                    "nev": "Varga Kata"
                                },
                                {
                                    "ora_id": "192",
                                    "nev": "Varga Kata"
                                },
                                {
                                    "ora_id": "193",
                                    "nev": "Farkasos Piroska"
                                },
                                {
                                    "ora_id": "194",
                                    "nev": "Farkasos Piroska"
                                },
                                {
                                    "ora_id": "195",
                                    "nev": "Balkán András"
                                },
                                {
                                    "ora_id": "196",
                                    "nev": "Balkán András"
                                },
                                {
                                    "ora_id": "197",
                                    "nev": "Farkasos Piroska"
                                },
                                {
                                    "ora_id": "198",
                                    "nev": "Farkasos Piroska"
                                },
                                {
                                    "ora_id": "199",
                                    "nev": "Szabó Andrera"
                                },
                                {
                                    "ora_id": "200",
                                    "nev": "Szabó Andrera"
                                },
                                {
                                    "ora_id": "201",
                                    "nev": "Juhász András"
                                },
                                {
                                    "ora_id": "202",
                                    "nev": "Juhász András"
                                },
                                {
                                    "ora_id": "203",
                                    "nev": "Aranyi Mária"
                                },
                                {
                                    "ora_id": "204",
                                    "nev": "Róbert Gida"
                                },
                                {
                                    "ora_id": "205",
                                    "nev": "Ujfalussi István"
                                },
                                {
                                    "ora_id": "206",
                                    "nev": "Varga Kata"
                                },
                                {
                                    "ora_id": "207",
                                    "nev": "Varga Kata"
                                },
                                {
                                    "ora_id": "208",
                                    "nev": "Jogrerős Pál"
                                },
                                {
                                    "ora_id": "209",
                                    "nev": "Jogrerős Pál"
                                },
                                {
                                    "ora_id": "210",
                                    "nev": "Szép llonka"
                                },
                                {
                                    "ora_id": "211",
                                    "nev": "Szép llonka"
                                },
                                {
                                    "ora_id": "212",
                                    "nev": "Kiss János"
                                },
                                {
                                    "ora_id": "213",
                                    "nev": "Kiss János"
                                },
                                {
                                    "ora_id": "214",
                                    "nev": "Pelikán József"
                                },
                                {
                                    "ora_id": "215",
                                    "nev": "Pelikán József"
                                },
                                {
                                    "ora_id": "216",
                                    "nev": "Szép llonka"
                                },
                                {
                                    "ora_id": "217",
                                    "nev": "Szép llonka"
                                },
                                {
                                    "ora_id": "218",
                                    "nev": "Pelikán József"
                                },
                                {
                                    "ora_id": "219",
                                    "nev": "Pelikán József"
                                },
                                {
                                    "ora_id": "220",
                                    "nev": "Kovács László"
                                },
                                {
                                    "ora_id": "221",
                                    "nev": "Kovács László"
                                },
                                {
                                    "ora_id": "222",
                                    "nev": "Kovács László"
                                },
                                {
                                    "ora_id": "223",
                                    "nev": "Kovács László"
                                },
                                {
                                    "ora_id": "226",
                                    "nev": "Szentágotai Istvás"
                                },
                                {
                                    "ora_id": "227",
                                    "nev": "Szentágotai Istvás"
                                }
                            ]
                        },
                        "text/html": [
                            "<table>",
                            "<tr><th>ora_id</th><th>nev</th></tr>",
                            "<tr><td>159</td><td>Ujfalussi István</td></tr>",
                            "<tr><td>160</td><td>Pelikán József</td></tr>",
                            "<tr><td>161</td><td>Pelikán József</td></tr>",
                            "<tr><td>162</td><td>Kovács András</td></tr>",
                            "<tr><td>163</td><td>Szerb László</td></tr>",
                            "<tr><td>164</td><td>Kiss János</td></tr>",
                            "<tr><td>165</td><td>Szerb László</td></tr>",
                            "<tr><td>166</td><td>Szerb László</td></tr>",
                            "<tr><td>167</td><td>Szentágotai Istvás</td></tr>",
                            "<tr><td>168</td><td>Ujfalussi István</td></tr>",
                            "<tr><td>169</td><td>Kovács András</td></tr>",
                            "<tr><td>170</td><td>Ludas Mátyás</td></tr>",
                            "<tr><td>171</td><td>Szénási ászló</td></tr>",
                            "<tr><td>172</td><td>Kiss János</td></tr>",
                            "<tr><td>173</td><td>Kovács András</td></tr>",
                            "<tr><td>174</td><td>Ludas Mátyás</td></tr>",
                            "<tr><td>175</td><td>Szénási ászló</td></tr>",
                            "<tr><td>176</td><td>Kovács András</td></tr>",
                            "<tr><td>177</td><td>Szentágotai Istvás</td></tr>",
                            "<tr><td>178</td><td>Vitéz János</td></tr>",
                            "<tr><td>179</td><td>Szentágotai Istvás</td></tr>",
                            "<tr><td>180</td><td>Vitéz János</td></tr>",
                            "<tr><td>181</td><td>Szentágotai Istvás</td></tr>",
                            "<tr><td>182</td><td>Vitéz János</td></tr>",
                            "<tr><td>183</td><td>Szentágotai Istvás</td></tr>",
                            "<tr><td>184</td><td>Vitéz János</td></tr>",
                            "<tr><td>185</td><td>Szentágotai Istvás</td></tr>",
                            "<tr><td>186</td><td>Nógrádi Kata</td></tr>",
                            "<tr><td>187</td><td>Balkán András</td></tr>",
                            "<tr><td>188</td><td>Farkasos Piroska</td></tr>",
                            "<tr><td>189</td><td>Farkasos Piroska</td></tr>",
                            "<tr><td>190</td><td>Farkasos Piroska</td></tr>",
                            "<tr><td>191</td><td>Varga Kata</td></tr>",
                            "<tr><td>192</td><td>Varga Kata</td></tr>",
                            "<tr><td>193</td><td>Farkasos Piroska</td></tr>",
                            "<tr><td>194</td><td>Farkasos Piroska</td></tr>",
                            "<tr><td>195</td><td>Balkán András</td></tr>",
                            "<tr><td>196</td><td>Balkán András</td></tr>",
                            "<tr><td>197</td><td>Farkasos Piroska</td></tr>",
                            "<tr><td>198</td><td>Farkasos Piroska</td></tr>",
                            "<tr><td>199</td><td>Szabó Andrera</td></tr>",
                            "<tr><td>200</td><td>Szabó Andrera</td></tr>",
                            "<tr><td>201</td><td>Juhász András</td></tr>",
                            "<tr><td>202</td><td>Juhász András</td></tr>",
                            "<tr><td>203</td><td>Aranyi Mária</td></tr>",
                            "<tr><td>204</td><td>Róbert Gida</td></tr>",
                            "<tr><td>205</td><td>Ujfalussi István</td></tr>",
                            "<tr><td>206</td><td>Varga Kata</td></tr>",
                            "<tr><td>207</td><td>Varga Kata</td></tr>",
                            "<tr><td>208</td><td>Jogrerős Pál</td></tr>",
                            "<tr><td>209</td><td>Jogrerős Pál</td></tr>",
                            "<tr><td>210</td><td>Szép llonka</td></tr>",
                            "<tr><td>211</td><td>Szép llonka</td></tr>",
                            "<tr><td>212</td><td>Kiss János</td></tr>",
                            "<tr><td>213</td><td>Kiss János</td></tr>",
                            "<tr><td>214</td><td>Pelikán József</td></tr>",
                            "<tr><td>215</td><td>Pelikán József</td></tr>",
                            "<tr><td>216</td><td>Szép llonka</td></tr>",
                            "<tr><td>217</td><td>Szép llonka</td></tr>",
                            "<tr><td>218</td><td>Pelikán József</td></tr>",
                            "<tr><td>219</td><td>Pelikán József</td></tr>",
                            "<tr><td>220</td><td>Kovács László</td></tr>",
                            "<tr><td>221</td><td>Kovács László</td></tr>",
                            "<tr><td>222</td><td>Kovács László</td></tr>",
                            "<tr><td>223</td><td>Kovács László</td></tr>",
                            "<tr><td>226</td><td>Szentágotai Istvás</td></tr>",
                            "<tr><td>227</td><td>Szentágotai Istvás</td></tr>",
                            "</table>"
                        ]
                    }
                }
            ],
            "execution_count": 15
        },
        {
            "cell_type": "markdown",
            "source": [
                "12. <span style=\"color: rgb(36, 41, 47); font-family: -apple-system, BlinkMacSystemFont, &quot;Segoe UI&quot;, Helvetica, Arial, sans-serif, &quot;Apple Color Emoji&quot;, &quot;Segoe UI Emoji&quot;; font-size: 16px;\">Készítsünk listát, amely tartalmazza az egyes órák azonosítóit, és az órán oktatott tantárgy felelősének nevét!</span>\n",
                "\n",
                "1. Rendezzük a listát a tantárgyfelelős neve szerint csökkenő sorrendbe!"
            ],
            "metadata": {
                "azdata_cell_guid": "a765e9d6-58b3-4171-872a-78f3118fd6e3"
            },
            "attachments": {}
        },
        {
            "cell_type": "code",
            "source": [
                "\r\n",
                "            "
            ],
            "metadata": {
                "azdata_cell_guid": "422e8127-b652-4d3a-bfd7-9b1637b5781e",
                "language": "sql"
            },
            "outputs": [],
            "execution_count": null
        },
        {
            "cell_type": "markdown",
            "source": [
                "13. <span style=\"color: rgb(36, 41, 47); font-family: -apple-system, BlinkMacSystemFont, &quot;Segoe UI&quot;, Helvetica, Arial, sans-serif, &quot;Apple Color Emoji&quot;, &quot;Segoe UI Emoji&quot;; font-size: 16px;\">Készítsünk listát, amely megjeleníti, hogy az Orak táblában lévő órák közül hányat tart Dr., illetve nem Dr. titulusú tanár!</span>\n",
                "\n",
                "1. Az oszlopokat nevezzük el értelemszerűen!"
            ],
            "metadata": {
                "azdata_cell_guid": "3f9237ae-f109-401c-acb9-31d75e73331b"
            },
            "attachments": {}
        },
        {
            "cell_type": "code",
            "source": [
                "SELECT IIF(okt.titulus='Dr.','Doktor','Nem doktor'),\r\n",
                "        count(o.ora_id)\r\n",
                "FROM Orak o JOIN Oktatok okt ON o.tanar=okt.oktato_id\r\n",
                "GROUP by IIF(okt.titulus='Dr.','Doktor','Nem doktor')"
            ],
            "metadata": {
                "azdata_cell_guid": "4b31bb89-cfbc-46b1-8639-85c462877786",
                "language": "sql",
                "tags": []
            },
            "outputs": [
                {
                    "output_type": "display_data",
                    "data": {
                        "text/html": "(2 rows affected)"
                    },
                    "metadata": {}
                },
                {
                    "output_type": "display_data",
                    "data": {
                        "text/html": "Total execution time: 00:00:00.011"
                    },
                    "metadata": {}
                },
                {
                    "output_type": "execute_result",
                    "metadata": {},
                    "execution_count": 17,
                    "data": {
                        "application/vnd.dataresource+json": {
                            "schema": {
                                "fields": [
                                    {
                                        "name": "(No column name)"
                                    },
                                    {
                                        "name": "(No column name)"
                                    }
                                ]
                            },
                            "data": [
                                {
                                    "(No column name)": "25"
                                },
                                {
                                    "(No column name)": "42"
                                }
                            ]
                        },
                        "text/html": [
                            "<table>",
                            "<tr><th>(No column name)</th><th>(No column name)</th></tr>",
                            "<tr><td>Doktor</td><td>25</td></tr>",
                            "<tr><td>Nem doktor</td><td>42</td></tr>",
                            "</table>"
                        ]
                    }
                }
            ],
            "execution_count": 17
        },
        {
            "cell_type": "markdown",
            "source": [
                "14. <span style=\"color: rgb(36, 41, 47); font-family: -apple-system, BlinkMacSystemFont, &quot;Segoe UI&quot;, Helvetica, Arial, sans-serif, &quot;Apple Color Emoji&quot;, &quot;Segoe UI Emoji&quot;; font-size: 16px;\">Készítsünk listát arról, hogy beosztásonként hány óra szerepel az Orak táblában!</span>\n",
                "\n",
                "1. Jelenítsük meg a beosztások nevét és az órák számát!\n",
                "2. A listát szűrjük azokra a beosztásokra, ahol ez az óraszám 10 feletti!"
            ],
            "metadata": {
                "azdata_cell_guid": "f634e09a-85ef-4e70-8ec6-ef355dfddaa7"
            },
            "attachments": {}
        },
        {
            "cell_type": "code",
            "source": [
                ""
            ],
            "metadata": {
                "azdata_cell_guid": "88abc55b-2c78-495b-a72f-3f8f4eb5fe70",
                "language": "sql"
            },
            "outputs": [],
            "execution_count": null
        },
        {
            "cell_type": "markdown",
            "source": [
                "15. <span style=\"color: rgb(36, 41, 47); font-family: -apple-system, BlinkMacSystemFont, &quot;Segoe UI&quot;, Helvetica, Arial, sans-serif, &quot;Apple Color Emoji&quot;, &quot;Segoe UI Emoji&quot;; font-size: 16px;\">Melyek azok az órák, amelyek kezdési időpontja olyan sávba esik, amely a mostani időpont (óra:perc) után van?</span>\n",
                "\n",
                "1. Listázzuk az órák azonosítóit, valamint az órakezdés napját és időpontját!\n",
                "2. A listát rendezzük az időpont szerint növekvő sorrendbe!"
            ],
            "metadata": {
                "azdata_cell_guid": "4cbf2f0d-a65d-480a-8186-ccdb24498443"
            },
            "attachments": {}
        },
        {
            "cell_type": "code",
            "source": [
                ""
            ],
            "metadata": {
                "azdata_cell_guid": "c148aee8-bc85-40bf-b80a-a4898a6c05cb",
                "language": "sql"
            },
            "outputs": [],
            "execution_count": null
        }
    ]
}