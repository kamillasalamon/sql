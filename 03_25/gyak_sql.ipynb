{
    "metadata": {
        "kernelspec": {
            "name": "SQL",
            "display_name": "SQL",
            "language": "sql"
        },
        "language_info": {
            "name": "sql",
            "version": ""
        }
    },
    "nbformat_minor": 2,
    "nbformat": 4,
    "cells": [
        {
            "cell_type": "markdown",
            "source": [
                "4. <span style=\"background-color: rgb(255, 255, 255); color: rgb(0, 0, 0); font-family: &quot;Open Sans&quot;, sans-serif; font-size: 14.44px;\">Készítsünk listát az ügyfelek számáról születési év szerint, azon belül nem szerinti bontásban!&nbsp;</span>  \n",
                "\n",
                "a. A lista megfelelően jelölve tartalmazza a részösszegeket és a végösszeget is!  \n",
                "b. Az oszlopoknak adjunk nevet értelemszerűen!"
            ],
            "metadata": {
                "azdata_cell_guid": "39331c13-99af-4ad0-8ee0-63a8ef473921"
            },
            "attachments": {}
        },
        {
            "cell_type": "code",
            "source": [
                "select iif(GROUPING_ID(szulev)=1, 'Végösszeg', cast(szulev as nvarchar(4))) as 'Születési év',\r\n",
                "       case\r\n",
                "         when GROUPING_ID(szulev, nem)=1 then 'Részösszeg'\r\n",
                "         when GROUPING_ID(szulev, nem)=3 then 'Végösszeg'\r\n",
                "        else nem \r\n",
                "         End as 'Nem',\r\n",
                "       count(*) as 'ügyfelek száma'\r\n",
                "from ugyfel\r\n",
                "GROUP BY rollup(SZULEV, nem)"
            ],
            "metadata": {
                "azdata_cell_guid": "46af65f5-1e46-4be7-a84e-757e3d1e9566",
                "language": "sql"
            },
            "outputs": [],
            "execution_count": null
        },
        {
            "cell_type": "markdown",
            "source": [
                "```\n",
                "3. Készítsünk listát az egyes termékkategóriákban lévő termékek számáról! \n",
                "\n",
                "```\n",
                "\n",
                "a. Elég megjeleníteni a kategóriák azonosítóit és a darabszámokat!   \n",
                "<span style=\"color: var(--vscode-foreground);\">b. A lista megfelelően jelölve tartalmazza a végösszeget is!&nbsp;<br></span>  <span style=\"color: var(--vscode-foreground);\">c. Az oszlopokat nevezzük el értelemszerűen!&nbsp;<br></span>  <span style=\"color: var(--vscode-foreground);\">d. A listát rendezzük a darabszám szerint növekvő sorrendbe</span>"
            ],
            "metadata": {
                "azdata_cell_guid": "11218cc8-39e1-4098-a4c9-fc1fcf62b413"
            },
            "attachments": {}
        },
        {
            "cell_type": "code",
            "source": [
                "SELECT IIF(GROUPING_ID(KAT_ID) = 1,\r\n",
                "           'Összesen',\r\n",
                "           CAST(KAT_ID AS nvarchar(5))) AS 'Kategória azonosító',\r\n",
                "       COUNT(*) AS 'Darabszám'\r\n",
                "FROM Termek\r\n",
                "GROUP BY ROLLUP(KAT_ID)\r\n",
                "ORDER BY COUNT(*)"
            ],
            "metadata": {
                "azdata_cell_guid": "c454f217-4743-4f19-b52a-50d3744dc661",
                "language": "sql"
            },
            "outputs": [],
            "execution_count": null
        },
        {
            "cell_type": "markdown",
            "source": [
                "1. <span style=\"background-color: rgb(255, 255, 255); color: rgb(0, 0, 0); font-family: &quot;Open Sans&quot;, sans-serif; font-size: 14.44px;\">Kérdezzük le, hogy melyik ügyfél (USERNEV) hány különböző szálláshelyen foglalt!</span>\n",
                "\n",
                "a. A listában azok az ügyfelek is jelenjenek meg, akiknek még nem volt foglalásuk\n",
                "\n",
                "b. Megfelelően jelölve jelenjen meg a végösszeg is!"
            ],
            "metadata": {
                "azdata_cell_guid": "648769b0-3756-4cf0-8185-f9fc69335c9d"
            },
            "attachments": {}
        },
        {
            "cell_type": "code",
            "source": [
                "SELECT iif(usernev is null, 'Végösszeg', v.usernev) as 'Ügyfél',\r\n",
                "       count(distinct(szh.szallas_id)) as 'Különböző szálláshelyek'\r\n",
                "FROM Vendeg v LEFT JOIN Foglalas f ON v.USERNEV = f.UGYFEL_FK\r\n",
                "              LEFT JOIN Szoba sz ON f.SZOBA_FK = sz.SZOBA_ID\r\n",
                "              LEFT JOIN Szallashely szh ON sz.SZALLAS_FK = szh.SZALLAS_ID\r\n",
                "group by rollup(v.usernev)\r\n",
                "\r\n",
                "\r\n",
                ""
            ],
            "metadata": {
                "azdata_cell_guid": "df4a7bcc-2cb2-4edc-82bc-e03e205d8665",
                "language": "sql"
            },
            "outputs": [],
            "execution_count": null
        },
        {
            "cell_type": "markdown",
            "source": [
                "2. <span style=\"background-color: rgb(255, 255, 255); color: rgb(0, 0, 0); font-family: &quot;Open Sans&quot;, sans-serif; font-size: 14.44px;\">Készítsünk listát, amely megjeleníti a vendégek adatait!</span>\n",
                "\n",
                "- Egy új oszlopban számoljuk ki a vendég életkorát (években)\n",
                "- Egy másik új oszlopban határozzuk meg, hogy születési dátum szerint növekvő rendezésnél mennyi az adott ügyfél. az előtte lévő 2 ügyfél és az utána lévő 2 ügyfél átlagos életkora! Az oszlopot nevezzük el értelemszerűen!"
            ],
            "metadata": {
                "azdata_cell_guid": "e22d3130-40da-41f2-be45-6c2c3c65251c"
            },
            "attachments": {}
        },
        {
            "cell_type": "code",
            "source": [
                "SELECT *,\r\n",
                "       DATEDIFF(YEAR, szul_dat, GETDATE()) AS 'Életkor',\r\n",
                "       AVG(DATEDIFF(YEAR, szul_dat, GETDATE()))\r\n",
                "           OVER(ORDER BY szul_dat ROWS BETWEEN 2 PRECEDING AND 2 FOLLOWING) AS 'Átlagos életkor'\r\n",
                "FROM Vendeg"
            ],
            "metadata": {
                "azdata_cell_guid": "fcb4fed3-be2f-4b32-91cb-0a843b37e37c",
                "language": "sql"
            },
            "outputs": [],
            "execution_count": null
        },
        {
            "cell_type": "markdown",
            "source": [
                "3. <span style=\"background-color: rgb(255, 255, 255); color: rgb(0, 0, 0); font-family: &quot;Open Sans&quot;, sans-serif; font-size: 14.44px;\">Egészítsük ki a megkezdett lekérdezést, amely listázza azon vendégek azonosítóját és nevét, akik már legalább egyszer foglaltak, és MINDEN ESETBEN összesen két fő számára (felnőtt + gyermek szám összege)!&nbsp;</span>  \n",
                "\n",
                " a. A lista ne tartalmazzon ismétlődő sorokat!"
            ],
            "metadata": {
                "azdata_cell_guid": "81d1e279-e59b-4b0b-96ca-c15dd15a2332"
            },
            "attachments": {}
        },
        {
            "cell_type": "code",
            "source": [
                "SELECT v.USERNEV, v.NEV\r\n",
                "FROM Vendeg v JOIN Foglalas f ON v.USERNEV = f.UGYFEL_FK \r\n",
                "WHERE NOT EXISTS\r\n",
                "( \r\n",
                "  SELECT *\r\n",
                "  FROM Foglalas f2 \r\n",
                "  WHERE v.USERNEV = f2.UGYFEL_FK\r\n",
                " AND f2.FELNOTT_SZAM + f2.GYERMEK_SZAM <>2\r\n",
                ")"
            ],
            "metadata": {
                "azdata_cell_guid": "40b37312-8a68-48a8-9f7b-4fb7db2f3337",
                "language": "sql"
            },
            "outputs": [],
            "execution_count": null
        }
    ]
}