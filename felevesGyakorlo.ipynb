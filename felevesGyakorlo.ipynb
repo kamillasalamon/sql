{
    "metadata": {
        "kernelspec": {
            "name": "SQL",
            "display_name": "SQL",
            "language": "sql"
        },
        "language_info": {
            "name": "sql",
            "version": ""
        }
    },
    "nbformat_minor": 2,
    "nbformat": 4,
    "cells": [
        {
            "cell_type": "markdown",
            "source": [
                "1.: **Készítsen lekérdezést, amely sorszámozza a vendégeket a foglalások száma alapján**\n",
                "\n",
                "- A sorszám mellett jelenjen meg a vendég azonosítója, neve és a foglalások száma is\n",
                "    \n",
                "- A legtöbbet foglaló vendég kapja az egyes sorszámot\n",
                "    \n",
                "- Holtverseny esetén a számozás annyit ugorjon, ahány egyforma érték van"
            ],
            "metadata": {
                "azdata_cell_guid": "616182ad-0eed-4cca-9fbe-15db974419df"
            },
            "attachments": {}
        },
        {
            "cell_type": "code",
            "source": [
                "SELECT RANK() OVER( order by count(f.FOGLALAS_PK) desc ) as 'helyezes',\r\n",
                "       v.USERNEV,\r\n",
                "       v.NEV,\r\n",
                "       count(f.FOGLALAS_PK)  \r\n",
                "from Vendeg v JOIN Foglalas f ON v.USERNEV=f.UGYFEL_FK\r\n",
                "GROUP BY v.USERNEV, v.nev\r\n",
                "ORDER BY 'helyezes'"
            ],
            "metadata": {
                "azdata_cell_guid": "37ec4428-f625-4da9-b288-b18e843098a1",
                "language": "sql"
            },
            "outputs": [],
            "execution_count": null
        },
        {
            "cell_type": "markdown",
            "source": [
                "2.: **Listázzuk azon vendégek nevét, email-címét és felhasználói nevét, akik egynél többször foglaltak!**\n",
                "\n",
                "- Hagyjuk ki azokat a vendégeket, akik május hónapban születtek!"
            ],
            "metadata": {
                "azdata_cell_guid": "df2c7c01-b383-43df-bde4-11fd015ac819"
            },
            "attachments": {}
        },
        {
            "cell_type": "code",
            "source": [
                "SELECT v.USERNEV,\r\n",
                "       v.NEV, \r\n",
                "       v.EMAIL\r\n",
                "From Vendeg v JOIN Foglalas f ON v.USERNEV=f.UGYFEL_FK\r\n",
                "where month(v.SZUL_DAT)<>5\r\n",
                "GROUP BY v.USERNEV, v.NEV, v.EMAIL\r\n",
                "HAVING count(f.FOGLALAS_PK)>1"
            ],
            "metadata": {
                "azdata_cell_guid": "7a44e52a-d5e7-40ef-ae4d-cd1f2fdc2c52",
                "language": "sql"
            },
            "outputs": [],
            "execution_count": null
        },
        {
            "cell_type": "markdown",
            "source": [
                "**3\\. Listázzuk azon vendégek adatait, akik a legtöbb férőhelyes szobát (vagy szobákat) már lefoglalták!**\n",
                "\n",
                "- Csak klímás szoba jöhet számításba"
            ],
            "metadata": {
                "azdata_cell_guid": "e1709bd3-dac9-4d14-9b4e-2f4518140b7f"
            },
            "attachments": {}
        },
        {
            "cell_type": "code",
            "source": [
                "select v.USERNEV,\r\n",
                "       v.NEV,\r\n",
                "       v.EMAIL,\r\n",
                "       v.SZUL_DAT,\r\n",
                "       v.SZAML_CIM\r\n",
                "From Foglalas f JOIN Vendeg v ON f.UGYFEL_FK=v.USERNEV\r\n",
                "              JOIN Szoba sz ON f.SZOBA_FK=sz.SZOBA_ID\r\n",
                "WHERE sz.FEROHELY in (\r\n",
                "    select max(FEROHELY)\r\n",
                "    from szoba\r\n",
                "    where KLIMAS='i'\r\n",
                ")"
            ],
            "metadata": {
                "azdata_cell_guid": "8f41eef7-1685-4dcf-9c83-2accca79d68c",
                "language": "sql"
            },
            "outputs": [],
            "execution_count": null
        },
        {
            "cell_type": "markdown",
            "source": [
                "4. **Hozza létre REDIS Cloud parancssorban a következő táblákat:**\n",
                "\n",
                "- **IRO**(ID, nev, nemzetiseg)\n",
                "    \n",
                "- **KONYV**(ID, cim, mufaj, IRO\\_ID)\n",
                "    \n",
                "\n",
                "**Vigyen fel táblánként legalább 2–2 sornyi adatot!**"
            ],
            "metadata": {
                "azdata_cell_guid": "4c55d690-8bec-4b97-bd85-2926bd45d3a0"
            },
            "attachments": {}
        },
        {
            "cell_type": "markdown",
            "source": [
                "HSET IRO:1 id 1 nev \"Petofi Sandor\" nemzetiseg \"magyar\"\n",
                "\n",
                "HSET IRO:2 id 2 nev \"Kaffka nemzetiseg \"cseh\"\n",
                "\n",
                "  \n",
                "\n",
                "HSET KONYV:1 id 1 cim \"Az arany ember\" mufaj \"regeny\" iro\\_id 1\n",
                "\n",
                "HSET KONYV:2 id 2 cim \"Az atvaltozas\" mufaj \"novella\" iro\\_id 2"
            ],
            "metadata": {
                "azdata_cell_guid": "a0b52da5-d1c9-4a43-abe1-005dd72444b2"
            },
            "attachments": {}
        },
        {
            "cell_type": "markdown",
            "source": [
                "<span style=\"color: var(--vscode-foreground);\"><b>5: A Neo4j Sandbox-ban vagy a Desktopban jelenítsük meg azon személyeket, akik</b> </span> **nem szerepeltek egy filmben Tom Hanks-szel**<span style=\"color: var(--vscode-foreground);\">.</span>\n",
                "\n",
                "- Egy szereplő neve csak egyszer jelenjen meg."
            ],
            "metadata": {
                "azdata_cell_guid": "75db5e70-1c68-4939-b252-96baeeb66517"
            },
            "attachments": {}
        },
        {
            "cell_type": "markdown",
            "source": [
                "MATCH (p:Person)\n",
                "\n",
                "<span style=\"color: var(--vscode-foreground);\">WHERE NOT EXISTS {</span>\n",
                "\n",
                "  MATCH (p)-\\[:ACTED\\_IN\\]-\\>(f:Movie)\\<-\\[:ACTED\\_IN\\]-(th:Person {name: \"Tom Hanks\"})\n",
                "\n",
                "}\n",
                "\n",
                "RETURN DISTINCT p.nam"
            ],
            "metadata": {
                "azdata_cell_guid": "2017face-1f19-406a-8680-904dc6c2b507"
            },
            "attachments": {}
        },
        {
            "cell_type": "markdown",
            "source": [
                "**6: <span style=\"background-color: rgba(127, 127, 127, 0.1); color: var(--vscode-foreground);\">A MongoDB Atlas </span> `sample_mflix` <span style=\"background-color: rgba(127, 127, 127, 0.1); color: var(--vscode-foreground);\">adatbázis </span> `comments` <span style=\"background-color: rgba(127, 127, 127, 0.1); color: var(--vscode-foreground);\">gyűjteményéből kérdezzük le, hogy </span> mely felhasználók (email) <span style=\"background-color: rgba(127, 127, 127, 0.1); color: var(--vscode-foreground);\">írtak </span> 10-nél több kommentet<span style=\"background-color: rgba(127, 127, 127, 0.1); color: var(--vscode-foreground);\">?</span>**"
            ],
            "metadata": {
                "azdata_cell_guid": "a5304a5d-a867-4c13-ad94-b2063d0b55a6"
            },
            "attachments": {}
        },
        {
            "cell_type": "markdown",
            "source": [
                "db.comments.aggregate(\\[\n",
                "\n",
                "  {\n",
                "\n",
                "    $group: {\n",
                "\n",
                "      \\_id: \"$email\",\n",
                "\n",
                "      comment\\_count: { $sum: 1 }\n",
                "\n",
                "    }\n",
                "\n",
                "  },\n",
                "\n",
                "  {\n",
                "\n",
                "    $match: {\n",
                "\n",
                "      comment\\_count: { $gt: 10 }\n",
                "\n",
                "    }\n",
                "\n",
                "  },\n",
                "\n",
                "  {\n",
                "\n",
                "    $project: {\n",
                "\n",
                "      \\_id: 0,\n",
                "\n",
                "      email: \"$\\_id\",\n",
                "\n",
                "      comment\\_count: 1\n",
                "\n",
                "    }\n",
                "\n",
                "  }\n",
                "\n",
                "\\])"
            ],
            "metadata": {
                "azdata_cell_guid": "f9b6e90a-280c-475d-8cd1-674b118eb6f7"
            },
            "attachments": {}
        },
        {
            "cell_type": "markdown",
            "source": [
                "**7.: A DataStax Astra minta adatai közül a `movies_and_tv` táblájából kérdezzük le, hogy melyik 10 film kapott a legjobb értékelést 2010-ben!  \n",
                "Csak a filmek címe jelenjen meg!**"
            ],
            "metadata": {
                "azdata_cell_guid": "17ba97e3-ad17-4bc1-98be-a6ccb1123333"
            },
            "attachments": {}
        },
        {
            "cell_type": "markdown",
            "source": [
                "use movies;\n",
                "\n",
                "  \n",
                "\n",
                "SELECT title \n",
                "\n",
                "FROM movies\\_and\\_tv \n",
                "\n",
                "WHERE release\\_year = 2010 \n",
                "\n",
                "ORDER BY rating DESC \n",
                "\n",
                "LIMIT 10;"
            ],
            "metadata": {
                "azdata_cell_guid": "dac1b66e-6fc7-492c-8d46-2611c40d56cd"
            },
            "attachments": {}
        }
    ]
}